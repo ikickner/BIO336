{
 "cells": [
  {
   "cell_type": "markdown",
   "metadata": {},
   "source": [
    "# Class 2- 1/29/20"
   ]
  },
  {
   "cell_type": "code",
   "execution_count": 3,
   "metadata": {},
   "outputs": [
    {
     "name": "stdout",
     "output_type": "stream",
     "text": [
      "Here is a number: 2\n",
      "I have a lovely dog named Spot\n",
      "I have a lovely dog named Fido\n",
      "I have a lovely dog named Reks\n"
     ]
    }
   ],
   "source": [
    "# Functions!\n",
    "\n",
    "# Functions that just do things but don't talk back\n",
    "# Built-in function:\n",
    "print(\"Here is a number:\",2)\n",
    "\n",
    "# Sad life of a person who wrote the same code many times\n",
    "\n",
    "print(\"I have a lovely dog named Spot\")\n",
    "print(\"I have a lovely dog named Fido\")\n",
    "print(\"I have a lovely dog named Reks\")\n",
    "# Poor person had to write same thing again and again"
   ]
  },
  {
   "cell_type": "code",
   "execution_count": 11,
   "metadata": {
    "scrolled": true
   },
   "outputs": [
    {
     "name": "stdout",
     "output_type": "stream",
     "text": [
      "I have a lovely dog named Teddy\n",
      "I have a lovely dog named Dog\n"
     ]
    }
   ],
   "source": [
    "def express_love_old(name=\"Dog\"):\n",
    "    print(\"I have a lovely dog named\",name)\n",
    "    \n",
    "express_love(\"Teddy\")\n",
    "express_love() # Default value"
   ]
  },
  {
   "cell_type": "code",
   "execution_count": 24,
   "metadata": {
    "scrolled": true
   },
   "outputs": [
    {
     "name": "stdout",
     "output_type": "stream",
     "text": [
      "Glory to all living things!\n",
      "I have a lovely dog named Teddy\n"
     ]
    }
   ],
   "source": [
    "def express_love(name= None): # Default value of None, so no error if called wihtout arguments\n",
    "    \"\"\"Expresses love to all creation, or a specific dog.\"\"\"\n",
    "    #This thing above is a docstring, and its a good form to provide functions with them.\n",
    "    if name is None:          # Special behavior if no argument\n",
    "        print(\"Glory to all living things!\")\n",
    "    else:\n",
    "        print(\"I have a lovely dog named\",name)\n",
    "    \n",
    "express_love()\n",
    "express_love(\"Teddy\")"
   ]
  },
  {
   "cell_type": "code",
   "execution_count": 25,
   "metadata": {},
   "outputs": [
    {
     "name": "stdout",
     "output_type": "stream",
     "text": [
      "['Spot', 'Fido', 'Reks', 'Teddy']\n",
      "The loop starts now:\n",
      "I have a lovely dog named Spot\n",
      "I have a lovely dog named Fido\n",
      "I have a lovely dog named Reks\n",
      "I have a lovely dog named Teddy\n"
     ]
    }
   ],
   "source": [
    "# Let's glorify several dogs in one go\n",
    "\n",
    "names = ['Spot', 'Fido', 'Reks', 'Teddy']\n",
    "print(names)\n",
    "\n",
    "print('The loop starts now:')\n",
    "for name in names:     # for here makes your 'running variable' (NAMES), one by one\n",
    "    express_love(name)"
   ]
  },
  {
   "cell_type": "code",
   "execution_count": 16,
   "metadata": {},
   "outputs": [
    {
     "data": {
      "text/plain": [
       "<function __main__.express_love(name=None)>"
      ]
     },
     "execution_count": 16,
     "metadata": {},
     "output_type": "execute_result"
    }
   ],
   "source": [
    "express_love # If you call a function name without (), instead of running the function you \"get\" the function itself"
   ]
  },
  {
   "cell_type": "code",
   "execution_count": 9,
   "metadata": {},
   "outputs": [
    {
     "ename": "NameError",
     "evalue": "name 'express_hatred' is not defined",
     "output_type": "error",
     "traceback": [
      "\u001b[1;31m---------------------------------------------------------------------------\u001b[0m",
      "\u001b[1;31mNameError\u001b[0m                                 Traceback (most recent call last)",
      "\u001b[1;32m<ipython-input-9-ccc783fb7294>\u001b[0m in \u001b[0;36m<module>\u001b[1;34m\u001b[0m\n\u001b[1;32m----> 1\u001b[1;33m \u001b[0mexpress_hatred\u001b[0m \u001b[1;31m#This one does not exist\u001b[0m\u001b[1;33m\u001b[0m\u001b[1;33m\u001b[0m\u001b[0m\n\u001b[0m\u001b[0;32m      2\u001b[0m \u001b[1;31m# Error message tries to tell you where the error happened (what row)\u001b[0m\u001b[1;33m\u001b[0m\u001b[1;33m\u001b[0m\u001b[1;33m\u001b[0m\u001b[0m\n\u001b[0;32m      3\u001b[0m \u001b[1;31m# And it tries to name the error (very last row of the error message)\u001b[0m\u001b[1;33m\u001b[0m\u001b[1;33m\u001b[0m\u001b[1;33m\u001b[0m\u001b[0m\n",
      "\u001b[1;31mNameError\u001b[0m: name 'express_hatred' is not defined"
     ]
    }
   ],
   "source": [
    "express_hatred #This one does not exist\n",
    "# Error message tries to tell you where the error happened (what row)\n",
    "# And it tries to name the error (very last row of the error message)"
   ]
  },
  {
   "cell_type": "code",
   "execution_count": 30,
   "metadata": {},
   "outputs": [
    {
     "name": "stdout",
     "output_type": "stream",
     "text": [
      "4\n",
      "14\n",
      "5\n",
      "14\n",
      "5\n"
     ]
    }
   ],
   "source": [
    "# Functions that do something and give it back to you\n",
    "\n",
    "#Built-in\n",
    "print(len(names))   #Takes something, returns a length of it\n",
    "\n",
    "#Imagine that someone has to calculate x**2+5 again and again\n",
    "print(3**2+5)\n",
    "print(0**2+5)\n",
    "\n",
    "def my_calculation(x):   #straegic choice of not having a default value; we want it to protest \n",
    "    \"\"\"Calculates this very important formula on which our life hinges\"\"\"\n",
    "    return x**2+5\n",
    "\n",
    "print(my_calculation(3))\n",
    "print(my_calculation(0))\n",
    "    "
   ]
  },
  {
   "cell_type": "markdown",
   "metadata": {},
   "source": [
    "# Markdown\n",
    "Markdown is cool! Here is what happens if you write! You get text!\n",
    "If you start a new line, nothing actually happens.\n",
    "\n",
    "If you want a new paragraph, you need to skip a line.\n",
    "\n",
    "* To do a bullet point list,\n",
    "* you use asterisks and a space \n",
    "\n",
    "To make a link, you [write the words in space brackets](http://google.com) followed by a link in round parentheses.\n",
    "\n",
    "## Second level title\n",
    "\n",
    "### Third-level title\n",
    "\n",
    "Two fancy unnecessary but fancy things. One, if you want to make your text about coding look so coding like, you can put some key words in reverse quotation marks. It will look like that: 'print(4)' , looks fancy! '5+5=10'.\n",
    "\n",
    "Another fancy thing is math! Math thingies are coded in little snippts of LaTex, and go between dollar signs. For example, \n",
    "$5+5=10$. \"Fancy math: $\\displaystyle \\sum_(i=0)^(\\inf) \\sqrt(1/n+1)) $             \n",
    "       #Google \"LaTex Command Summary\" for more of these"
   ]
  },
  {
   "cell_type": "code",
   "execution_count": null,
   "metadata": {},
   "outputs": [],
   "source": []
  },
  {
   "cell_type": "code",
   "execution_count": null,
   "metadata": {},
   "outputs": [],
   "source": []
  },
  {
   "cell_type": "code",
   "execution_count": null,
   "metadata": {},
   "outputs": [],
   "source": []
  }
 ],
 "metadata": {
  "kernelspec": {
   "display_name": "Python 3",
   "language": "python",
   "name": "python3"
  },
  "language_info": {
   "codemirror_mode": {
    "name": "ipython",
    "version": 3
   },
   "file_extension": ".py",
   "mimetype": "text/x-python",
   "name": "python",
   "nbconvert_exporter": "python",
   "pygments_lexer": "ipython3",
   "version": "3.7.4"
  }
 },
 "nbformat": 4,
 "nbformat_minor": 2
}
