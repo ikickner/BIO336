{
 "cells": [
  {
   "cell_type": "code",
   "execution_count": 2,
   "metadata": {},
   "outputs": [],
   "source": [
    "import numpy as np\n",
    "import matplotlib.pyplot as plt"
   ]
  },
  {
   "cell_type": "code",
   "execution_count": 12,
   "metadata": {},
   "outputs": [
    {
     "data": {
      "image/png": "[encoded data removed]",
      "text/plain": [
       "<Figure size 432x288 with 1 Axes>"
      ]
     },
     "metadata": {
      "needs_background": "light"
     },
     "output_type": "display_data"
    }
   ],
   "source": [
    "# Basic Model\n",
    "npeople = 100         \n",
    "nsteps = 10000         \n",
    "coin = 0.1\n",
    "\n",
    "wealth = np.ones(npeople)\n",
    "\n",
    "for t in range(nsteps):\n",
    "    p1 = np.random.randint(low = 0, high = npeople)\n",
    "    p2 = np.random.randint(low = 0, high = npeople)\n",
    "\n",
    "    if wealth[p1] > 0:\n",
    "        wealth[p1] -= coin\n",
    "        wealth[p2] += coin\n",
    "\n",
    "plt.hist(wealth);"
   ]
  },
  {
   "cell_type": "code",
   "execution_count": 31,
   "metadata": {},
   "outputs": [
    {
     "data": {
      "image/png": "[encoded data removed]",
      "text/plain": [
       "<Figure size 432x288 with 2 Axes>"
      ]
     },
     "metadata": {
      "needs_background": "light"
     },
     "output_type": "display_data"
    }
   ],
   "source": [
    "# Part 2:\n",
    "npeople = 100         \n",
    "nsteps = 1000 \n",
    "trades_per_step = 10\n",
    "coin = 0.1\n",
    "\n",
    "wealth = np.ones(shape = (nsteps, npeople))\n",
    "\n",
    "for t in range(1,nsteps):\n",
    "    wealth[t, :] = wealth[t-1, :]\n",
    "    for i in range(trades_per_step):\n",
    "        p1 = np.random.randint(low = 0, high = npeople)\n",
    "        p2 = np.random.randint(low = 0, high = npeople)\n",
    "\n",
    "        if wealth[t, p1] > 0:\n",
    "            wealth[t, p1] = wealth[t-1, p1] - coin\n",
    "            wealth[t, p2] = wealth[t-1, p2] + coin\n",
    "\n",
    "poor_one = np.argmin(wealth[-1,:])\n",
    "rich_one = np.argmax(wealth[-1,:])\n",
    "\n",
    "plt.subplot(1,2,1);\n",
    "plt.hist(wealth[-1,:]);\n",
    "plt.subplot(1,2,2);\n",
    "plt.plot(wealth[:,0]);"
   ]
  },
  {
   "cell_type": "code",
   "execution_count": null,
   "metadata": {},
   "outputs": [],
   "source": [
    "# Define a function to calculate Gini coefficent\n",
    "def gini(x):\n",
    "    y = np.sort(x)\n",
    "    upper_sum = 0\n",
    "    n = len(x)\n",
    "    for i in range(n):\n",
    "        upper_sum += (i+1)*y[i]\n",
    "    return 1-2/(n-1)*(n - upper_sum/sum(y))\n"
   ]
  }
 ],
 "metadata": {
  "kernelspec": {
   "display_name": "Python 3",
   "language": "python",
   "name": "python3"
  },
  "language_info": {
   "codemirror_mode": {
    "name": "ipython",
    "version": 3
   },
   "file_extension": ".py",
   "mimetype": "text/x-python",
   "name": "python",
   "nbconvert_exporter": "python",
   "pygments_lexer": "ipython3",
   "version": "3.7.4"
  }
 },
 "nbformat": 4,
 "nbformat_minor": 2
}
