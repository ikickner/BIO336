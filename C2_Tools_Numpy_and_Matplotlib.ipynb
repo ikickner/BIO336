{
 "cells": [
  {
   "cell_type": "markdown",
   "metadata": {},
   "source": [
    "# Numpy and Matplotlib\n",
    "\n",
    "First of all, to use libraries, we need to import them. And it is usually done at the beginning of your script/notebook."
   ]
  },
  {
   "cell_type": "code",
   "execution_count": 50,
   "metadata": {},
   "outputs": [],
   "source": [
    "import numpy as np\n",
    "import matplotlib.pyplot as plt"
   ]
  },
  {
   "cell_type": "code",
   "execution_count": 2,
   "metadata": {},
   "outputs": [
    {
     "data": {
      "text/plain": [
       "3.0"
      ]
     },
     "execution_count": 2,
     "metadata": {},
     "output_type": "execute_result"
    }
   ],
   "source": [
    "np.sqrt(9)"
   ]
  },
  {
   "cell_type": "markdown",
   "metadata": {},
   "source": [
    "Before we start, just as a vaccination of sorts, the difference between numpy and lists. "
   ]
  },
  {
   "cell_type": "code",
   "execution_count": 10,
   "metadata": {},
   "outputs": [
    {
     "name": "stdout",
     "output_type": "stream",
     "text": [
      "[1, 2, 3]\n",
      "2\n"
     ]
    },
    {
     "ename": "TypeError",
     "evalue": "can only concatenate list (not \"int\") to list",
     "output_type": "error",
     "traceback": [
      "\u001b[1;31m---------------------------------------------------------------------------\u001b[0m",
      "\u001b[1;31mTypeError\u001b[0m                                 Traceback (most recent call last)",
      "\u001b[1;32m<ipython-input-10-9bbe54e0bac5>\u001b[0m in \u001b[0;36m<module>\u001b[1;34m\u001b[0m\n\u001b[0;32m      7\u001b[0m \u001b[1;33m\u001b[0m\u001b[0m\n\u001b[0;32m      8\u001b[0m \u001b[1;31m# Can you add a number to a list?\u001b[0m\u001b[1;33m\u001b[0m\u001b[1;33m\u001b[0m\u001b[1;33m\u001b[0m\u001b[0m\n\u001b[1;32m----> 9\u001b[1;33m \u001b[0mprint\u001b[0m\u001b[1;33m(\u001b[0m\u001b[0ma\u001b[0m\u001b[1;33m+\u001b[0m\u001b[1;36m1\u001b[0m\u001b[1;33m)\u001b[0m \u001b[1;31m# No, you cannot, returns as error.\u001b[0m\u001b[1;33m\u001b[0m\u001b[1;33m\u001b[0m\u001b[0m\n\u001b[0m\u001b[0;32m     10\u001b[0m \u001b[1;33m\u001b[0m\u001b[0m\n\u001b[0;32m     11\u001b[0m \u001b[1;31m#Can you add to lists together?\u001b[0m\u001b[1;33m\u001b[0m\u001b[1;33m\u001b[0m\u001b[1;33m\u001b[0m\u001b[0m\n",
      "\u001b[1;31mTypeError\u001b[0m: can only concatenate list (not \"int\") to list"
     ]
    }
   ],
   "source": [
    "# Let's create a list, and add to the list\n",
    "a = [1,2,3]\n",
    "print(a)\n",
    "\n",
    "# We can access elements of a list\n",
    "print(a[1])\n",
    "\n",
    "# Can you add a number to a list?\n",
    "print(a+1) # No, you cannot, returns as error.\n",
    "\n",
    "#Can you add to lists together?\n",
    "print(a+a) #Yes, you can, and it concatenates the lists\n",
    "\n",
    "#A consequence of that, you can kinda multiply lists, but it actually just repeats them"
   ]
  },
  {
   "cell_type": "code",
   "execution_count": 15,
   "metadata": {},
   "outputs": [
    {
     "name": "stdout",
     "output_type": "stream",
     "text": [
      "[1 2 3]\n",
      "2\n",
      "[2.1 3.1 4.1]\n",
      "[ 5 10 15]\n",
      "[2 4 6]\n"
     ]
    },
    {
     "ename": "ValueError",
     "evalue": "operands could not be broadcast together with shapes (3,) (2,) ",
     "output_type": "error",
     "traceback": [
      "\u001b[1;31m---------------------------------------------------------------------------\u001b[0m",
      "\u001b[1;31mValueError\u001b[0m                                Traceback (most recent call last)",
      "\u001b[1;32m<ipython-input-15-28c5c21cab47>\u001b[0m in \u001b[0;36m<module>\u001b[1;34m\u001b[0m\n\u001b[0;32m     17\u001b[0m \u001b[1;33m\u001b[0m\u001b[0m\n\u001b[0;32m     18\u001b[0m \u001b[1;31m# What if the vectors are of different size?\u001b[0m\u001b[1;33m\u001b[0m\u001b[1;33m\u001b[0m\u001b[1;33m\u001b[0m\u001b[0m\n\u001b[1;32m---> 19\u001b[1;33m \u001b[0mprint\u001b[0m\u001b[1;33m(\u001b[0m\u001b[0mb\u001b[0m\u001b[1;33m+\u001b[0m\u001b[0mnp\u001b[0m\u001b[1;33m.\u001b[0m\u001b[0marray\u001b[0m\u001b[1;33m(\u001b[0m\u001b[1;33m[\u001b[0m\u001b[1;36m1\u001b[0m\u001b[1;33m,\u001b[0m\u001b[1;36m2\u001b[0m\u001b[1;33m]\u001b[0m\u001b[1;33m)\u001b[0m\u001b[1;33m)\u001b[0m   \u001b[1;31m# This would not work, as in good faith you cannot interpret it\u001b[0m\u001b[1;33m\u001b[0m\u001b[1;33m\u001b[0m\u001b[0m\n\u001b[0m",
      "\u001b[1;31mValueError\u001b[0m: operands could not be broadcast together with shapes (3,) (2,) "
     ]
    }
   ],
   "source": [
    "# For math, we'll be using NUMPY ARRAYS\n",
    "\n",
    "b = np.array([1,2,3])\n",
    "print(b)\n",
    "\n",
    "# Can we access an element of it?\n",
    "print(b[1])  #Yep, it worked the same as for a list!\n",
    "\n",
    "# Can we add a number to it?\n",
    "print(b+1.1)\n",
    "\n",
    "# Can we multipy by a number?\n",
    "print(b*5)   #Yep, and it actually multiplies every element!\n",
    "\n",
    "# Can we add two arrays together?\n",
    "print(b+b)   #Yes, and moreover, it does it element by element!\n",
    "\n",
    "# What if the vectors are of different size?\n",
    "print(b+np.array([1,2]))   # This would not work, as in good faith you cannot interpret it"
   ]
  },
  {
   "cell_type": "code",
   "execution_count": 14,
   "metadata": {},
   "outputs": [
    {
     "data": {
      "text/plain": [
       "array(['d', '1'], dtype='<U1')"
      ]
     },
     "execution_count": 14,
     "metadata": {},
     "output_type": "execute_result"
    }
   ],
   "source": [
    "# You can also put strings inot a numpy array, but let's park it\n",
    "np.array(['d',1])"
   ]
  },
  {
   "cell_type": "code",
   "execution_count": 16,
   "metadata": {},
   "outputs": [
    {
     "name": "stdout",
     "output_type": "stream",
     "text": [
      "[1 4 9]\n",
      "[1.         1.41421356 1.73205081]\n"
     ]
    }
   ],
   "source": [
    "# MOst well written functions can be called a vector like that (array), and they just apply themselves to every element\n",
    "print(b**2)\n",
    "print(np.sqrt(b))"
   ]
  },
  {
   "cell_type": "markdown",
   "metadata": {},
   "source": [
    "# Matplotlib section"
   ]
  },
  {
   "cell_type": "code",
   "execution_count": 36,
   "metadata": {},
   "outputs": [
    {
     "data": {
      "image/png": "[encoded data removed]",
      "text/plain": [
       "<Figure size 360x360 with 1 Axes>"
      ]
     },
     "metadata": {
      "needs_background": "light"
     },
     "output_type": "display_data"
    }
   ],
   "source": [
    "# Let's try to plot something!\n",
    "\n",
    "x = np.arange(start=0,stop=10,step=0.2)#This creates 9 numbers from 0 to 9. ALso, we use named arguments here, just for fun.\n",
    "# print(x)\n",
    "plt.figure(figsize=(5,5))     #it creates a figure. (5,5) here is a Tuple, a new data type, lets talk about them later!\n",
    "plt.plot(x, np.sin(x)+x/5);   #semicolon suppresses the output for this object thing, just to make it look neater.\n",
    "plt.xlabel('Something something');\n",
    "plt.ylabel('Something somethin else')\n",
    "\n",
    "plt.plot(x,np.sqrt(x),'r--');    #'r' = red line. 'k'= black, 'r.'= dotted line, 'r--'=dashed line"
   ]
  },
  {
   "cell_type": "markdown",
   "metadata": {},
   "source": [
    "Birthday exercise"
   ]
  },
  {
   "cell_type": "code",
   "execution_count": null,
   "metadata": {},
   "outputs": [],
   "source": [
    "##Practical problem: probability of two people in same room have bday on the same day\n",
    "\n",
    "# 1. for loop\n",
    "# 2. calculate p (new bracket)and update value for the total prob\n",
    "# 3. create a np.array. save all p(n)\n",
    "# 4.plot them"
   ]
  },
  {
   "cell_type": "code",
   "execution_count": 53,
   "metadata": {},
   "outputs": [
    {
     "data": {
      "image/png": "[encoded data removed]",
      "text/plain": [
       "<Figure size 432x288 with 1 Axes>"
      ]
     },
     "metadata": {
      "needs_background": "light"
     },
     "output_type": "display_data"
    }
   ],
   "source": [
    "n=100\n",
    "p = np.zeros(n) #Prob of not having a matching bday\n",
    "p[0]=1\n",
    "p[1]=1   # For 1 person, prob of not having a matching bday is 1, haha\n",
    "for i in range(2,n):   #This loop will run from 2 to n-1 (highest number will be n-1)\n",
    "    # Calculate the prob that this new person doesn't have a matching bday\n",
    "    # Using this new value we just calculated, and a value p[i-I], calculate p[i]\n",
    "    # you'll have p[i]=something something*p[i-1]   HOMEWORK!!!!!!\n",
    "    #Plot p, which is a vector of n numbers\n",
    "    y = (1- (i-1)/365)\n",
    "    p[i] = y * p[i-1]\n",
    "    \n",
    "x=np.arange(start =0, stop =100, step = 1)\n",
    "plt.plot(x,p);"
   ]
  }
 ],
 "metadata": {
  "kernelspec": {
   "display_name": "Python 3",
   "language": "python",
   "name": "python3"
  },
  "language_info": {
   "codemirror_mode": {
    "name": "ipython",
    "version": 3
   },
   "file_extension": ".py",
   "mimetype": "text/x-python",
   "name": "python",
   "nbconvert_exporter": "python",
   "pygments_lexer": "ipython3",
   "version": "3.7.4"
  }
 },
 "nbformat": 4,
 "nbformat_minor": 2
}
